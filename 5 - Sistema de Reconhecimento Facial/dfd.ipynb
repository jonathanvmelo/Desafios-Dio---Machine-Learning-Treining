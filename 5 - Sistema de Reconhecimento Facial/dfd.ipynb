{
 "cells": [
  {
   "cell_type": "code",
   "execution_count": null,
   "id": "fa7e1fe6",
   "metadata": {},
   "outputs": [],
   "source": [
    "import cv2\n",
    "from mtcnn.mtcnn import MTCNN\n",
    "from keras_facenet import FaceNet\n",
    "from sklearn.preprocessing import LabelEncoder\n",
    "from sklearn.svm import SVC\n",
    "from sklearn.metrics import classification_report, confusion_matrix\n",
    "import joblib\n",
    "from google.colab import drive\n",
    "from IPython.display import display, Image\n",
    "from base64 import b64decode, b64encode\n",
    "import PIL, io, html\n",
    "import matplotlib.pyplot as plt\n",
    "\n",
    "import tensorflow as tf\n",
    "print(\"TensorFlow version:\", tf.__version__)\n",
    "gpus = tf.config.list_physical_devices('GPU')\n",
    "print(\"GPUs:\", gpus)\n",
    "\n",
    "# Inicializa detectores / embedder\n",
    "print(\"Inicializando MTCNN detector e FaceNet embedder (pode demorar na 1a vez)...\")\n",
    "detector = MTCNN()\n",
    "embedder = FaceNet()\n",
    "print(\"Pronto.\")"
   ]
  },
  {
   "cell_type": "code",
   "execution_count": null,
   "id": "638cae09",
   "metadata": {},
   "outputs": [],
   "source": [
    "#@title 1 - Instalar dependências\n",
    "!pip install -q mtcnn keras-facenet scikit-learn joblib tqdm\n",
    "\n",
    "# Algumas bibliotecas do colab já existem, mas essa célula garante as libs necessárias.\n",
    "print(\"Instalação concluída. Agora importe as bibliotecas na próxima célula.\")"
   ]
  }
 ],
 "metadata": {
  "language_info": {
   "name": "python"
  }
 },
 "nbformat": 4,
 "nbformat_minor": 5
}
